{
 "cells": [
  {
   "cell_type": "code",
   "execution_count": 85,
   "id": "coordinated-bonus",
   "metadata": {},
   "outputs": [],
   "source": [
    "from sklearn import preprocessing\n",
    "import pandas as pd\n",
    "import matplotlib.pyplot as plt\n",
    "import numpy as np"
   ]
  },
  {
   "cell_type": "markdown",
   "id": "celtic-summit",
   "metadata": {},
   "source": [
    "# Adicionando Base de Dados"
   ]
  },
  {
   "cell_type": "code",
   "execution_count": 36,
   "id": "robust-louisiana",
   "metadata": {},
   "outputs": [],
   "source": [
    "ds_foz = pd.read_csv('./datasets/casos/fozdoiguacu.csv')"
   ]
  },
  {
   "cell_type": "code",
   "execution_count": 29,
   "id": "selective-eligibility",
   "metadata": {},
   "outputs": [
    {
     "data": {
      "text/html": [
       "<div>\n",
       "<style scoped>\n",
       "    .dataframe tbody tr th:only-of-type {\n",
       "        vertical-align: middle;\n",
       "    }\n",
       "\n",
       "    .dataframe tbody tr th {\n",
       "        vertical-align: top;\n",
       "    }\n",
       "\n",
       "    .dataframe thead th {\n",
       "        text-align: right;\n",
       "    }\n",
       "</style>\n",
       "<table border=\"1\" class=\"dataframe\">\n",
       "  <thead>\n",
       "    <tr style=\"text-align: right;\">\n",
       "      <th></th>\n",
       "      <th>data_iniSE</th>\n",
       "      <th>SE</th>\n",
       "      <th>casos_est</th>\n",
       "      <th>casos_est_min</th>\n",
       "      <th>casos_est_max</th>\n",
       "      <th>casos</th>\n",
       "      <th>p_rt1</th>\n",
       "      <th>p_inc100k</th>\n",
       "      <th>nivel</th>\n",
       "      <th>versao_modelo</th>\n",
       "      <th>tweet</th>\n",
       "      <th>Rt</th>\n",
       "      <th>pop</th>\n",
       "      <th>tempmin</th>\n",
       "      <th>receptivo</th>\n",
       "      <th>transmissao</th>\n",
       "      <th>nivel_inc</th>\n",
       "      <th>notif_accum_year</th>\n",
       "    </tr>\n",
       "  </thead>\n",
       "  <tbody>\n",
       "    <tr>\n",
       "      <th>0</th>\n",
       "      <td>2015-12-27</td>\n",
       "      <td>201552</td>\n",
       "      <td>68.0</td>\n",
       "      <td>68</td>\n",
       "      <td>68</td>\n",
       "      <td>68</td>\n",
       "      <td>0.000003</td>\n",
       "      <td>25.7659</td>\n",
       "      <td>2</td>\n",
       "      <td>2020-12-10</td>\n",
       "      <td>11.0</td>\n",
       "      <td>1.0</td>\n",
       "      <td>263915.0</td>\n",
       "      <td>23.0</td>\n",
       "      <td>1</td>\n",
       "      <td>0</td>\n",
       "      <td>1</td>\n",
       "      <td>3190</td>\n",
       "    </tr>\n",
       "    <tr>\n",
       "      <th>1</th>\n",
       "      <td>2016-01-03</td>\n",
       "      <td>201601</td>\n",
       "      <td>256.0</td>\n",
       "      <td>256</td>\n",
       "      <td>256</td>\n",
       "      <td>256</td>\n",
       "      <td>1.000000</td>\n",
       "      <td>97.0009</td>\n",
       "      <td>2</td>\n",
       "      <td>2020-12-10</td>\n",
       "      <td>6.0</td>\n",
       "      <td>2.0</td>\n",
       "      <td>263915.0</td>\n",
       "      <td>24.0</td>\n",
       "      <td>1</td>\n",
       "      <td>1</td>\n",
       "      <td>1</td>\n",
       "      <td>3190</td>\n",
       "    </tr>\n",
       "    <tr>\n",
       "      <th>2</th>\n",
       "      <td>2016-01-10</td>\n",
       "      <td>201602</td>\n",
       "      <td>416.0</td>\n",
       "      <td>416</td>\n",
       "      <td>416</td>\n",
       "      <td>416</td>\n",
       "      <td>1.000000</td>\n",
       "      <td>157.6270</td>\n",
       "      <td>3</td>\n",
       "      <td>2020-12-10</td>\n",
       "      <td>9.0</td>\n",
       "      <td>3.0</td>\n",
       "      <td>263915.0</td>\n",
       "      <td>23.0</td>\n",
       "      <td>1</td>\n",
       "      <td>1</td>\n",
       "      <td>2</td>\n",
       "      <td>3190</td>\n",
       "    </tr>\n",
       "    <tr>\n",
       "      <th>3</th>\n",
       "      <td>2016-01-17</td>\n",
       "      <td>201603</td>\n",
       "      <td>754.0</td>\n",
       "      <td>754</td>\n",
       "      <td>754</td>\n",
       "      <td>754</td>\n",
       "      <td>1.000000</td>\n",
       "      <td>285.6980</td>\n",
       "      <td>4</td>\n",
       "      <td>2020-12-10</td>\n",
       "      <td>10.0</td>\n",
       "      <td>3.0</td>\n",
       "      <td>263915.0</td>\n",
       "      <td>21.0</td>\n",
       "      <td>0</td>\n",
       "      <td>1</td>\n",
       "      <td>2</td>\n",
       "      <td>3190</td>\n",
       "    </tr>\n",
       "    <tr>\n",
       "      <th>4</th>\n",
       "      <td>2016-01-24</td>\n",
       "      <td>201604</td>\n",
       "      <td>1157.0</td>\n",
       "      <td>1157</td>\n",
       "      <td>1157</td>\n",
       "      <td>1157</td>\n",
       "      <td>1.000000</td>\n",
       "      <td>438.3990</td>\n",
       "      <td>4</td>\n",
       "      <td>2020-12-10</td>\n",
       "      <td>19.0</td>\n",
       "      <td>2.0</td>\n",
       "      <td>263915.0</td>\n",
       "      <td>22.0</td>\n",
       "      <td>0</td>\n",
       "      <td>1</td>\n",
       "      <td>2</td>\n",
       "      <td>3190</td>\n",
       "    </tr>\n",
       "  </tbody>\n",
       "</table>\n",
       "</div>"
      ],
      "text/plain": [
       "   data_iniSE      SE  casos_est  casos_est_min  casos_est_max  casos  \\\n",
       "0  2015-12-27  201552       68.0             68             68     68   \n",
       "1  2016-01-03  201601      256.0            256            256    256   \n",
       "2  2016-01-10  201602      416.0            416            416    416   \n",
       "3  2016-01-17  201603      754.0            754            754    754   \n",
       "4  2016-01-24  201604     1157.0           1157           1157   1157   \n",
       "\n",
       "      p_rt1  p_inc100k  nivel versao_modelo  tweet   Rt       pop  tempmin  \\\n",
       "0  0.000003    25.7659      2    2020-12-10   11.0  1.0  263915.0     23.0   \n",
       "1  1.000000    97.0009      2    2020-12-10    6.0  2.0  263915.0     24.0   \n",
       "2  1.000000   157.6270      3    2020-12-10    9.0  3.0  263915.0     23.0   \n",
       "3  1.000000   285.6980      4    2020-12-10   10.0  3.0  263915.0     21.0   \n",
       "4  1.000000   438.3990      4    2020-12-10   19.0  2.0  263915.0     22.0   \n",
       "\n",
       "   receptivo  transmissao  nivel_inc  notif_accum_year  \n",
       "0          1            0          1              3190  \n",
       "1          1            1          1              3190  \n",
       "2          1            1          2              3190  \n",
       "3          0            1          2              3190  \n",
       "4          0            1          2              3190  "
      ]
     },
     "execution_count": 29,
     "metadata": {},
     "output_type": "execute_result"
    }
   ],
   "source": [
    "ds_foz.head()"
   ]
  },
  {
   "cell_type": "markdown",
   "id": "alternate-engine",
   "metadata": {},
   "source": [
    "# Limpando Bade de Dados"
   ]
  },
  {
   "cell_type": "code",
   "execution_count": 37,
   "id": "bizarre-parliament",
   "metadata": {},
   "outputs": [],
   "source": [
    "col_remove = ['Localidade_id','umidmax','id','casos_est','casos_est_min','casos_est_max','p_rt1','tweet','Rt','nivel_inc','versao_modelo','nivel','transmissao','notif_accum_year','receptivo',]\n",
    "ds_foz_simple = ds_foz.drop(col_remove,axis=1)"
   ]
  },
  {
   "cell_type": "code",
   "execution_count": 91,
   "id": "modular-concept",
   "metadata": {},
   "outputs": [
    {
     "data": {
      "text/html": [
       "<div>\n",
       "<style scoped>\n",
       "    .dataframe tbody tr th:only-of-type {\n",
       "        vertical-align: middle;\n",
       "    }\n",
       "\n",
       "    .dataframe tbody tr th {\n",
       "        vertical-align: top;\n",
       "    }\n",
       "\n",
       "    .dataframe thead th {\n",
       "        text-align: right;\n",
       "    }\n",
       "</style>\n",
       "<table border=\"1\" class=\"dataframe\">\n",
       "  <thead>\n",
       "    <tr style=\"text-align: right;\">\n",
       "      <th></th>\n",
       "      <th>data_iniSE</th>\n",
       "      <th>SE</th>\n",
       "      <th>casos</th>\n",
       "      <th>p_inc100k</th>\n",
       "      <th>pop</th>\n",
       "      <th>tempmin</th>\n",
       "    </tr>\n",
       "  </thead>\n",
       "  <tbody>\n",
       "    <tr>\n",
       "      <th>0</th>\n",
       "      <td>2015-12-27</td>\n",
       "      <td>201552</td>\n",
       "      <td>68</td>\n",
       "      <td>25.7659</td>\n",
       "      <td>263915.0</td>\n",
       "      <td>23.0</td>\n",
       "    </tr>\n",
       "    <tr>\n",
       "      <th>1</th>\n",
       "      <td>2016-01-03</td>\n",
       "      <td>201601</td>\n",
       "      <td>256</td>\n",
       "      <td>97.0009</td>\n",
       "      <td>263915.0</td>\n",
       "      <td>24.0</td>\n",
       "    </tr>\n",
       "    <tr>\n",
       "      <th>2</th>\n",
       "      <td>2016-01-10</td>\n",
       "      <td>201602</td>\n",
       "      <td>416</td>\n",
       "      <td>157.6270</td>\n",
       "      <td>263915.0</td>\n",
       "      <td>23.0</td>\n",
       "    </tr>\n",
       "    <tr>\n",
       "      <th>3</th>\n",
       "      <td>2016-01-17</td>\n",
       "      <td>201603</td>\n",
       "      <td>754</td>\n",
       "      <td>285.6980</td>\n",
       "      <td>263915.0</td>\n",
       "      <td>21.0</td>\n",
       "    </tr>\n",
       "    <tr>\n",
       "      <th>4</th>\n",
       "      <td>2016-01-24</td>\n",
       "      <td>201604</td>\n",
       "      <td>1157</td>\n",
       "      <td>438.3990</td>\n",
       "      <td>263915.0</td>\n",
       "      <td>22.0</td>\n",
       "    </tr>\n",
       "  </tbody>\n",
       "</table>\n",
       "</div>"
      ],
      "text/plain": [
       "   data_iniSE      SE  casos  p_inc100k       pop  tempmin\n",
       "0  2015-12-27  201552     68    25.7659  263915.0     23.0\n",
       "1  2016-01-03  201601    256    97.0009  263915.0     24.0\n",
       "2  2016-01-10  201602    416   157.6270  263915.0     23.0\n",
       "3  2016-01-17  201603    754   285.6980  263915.0     21.0\n",
       "4  2016-01-24  201604   1157   438.3990  263915.0     22.0"
      ]
     },
     "execution_count": 91,
     "metadata": {},
     "output_type": "execute_result"
    }
   ],
   "source": [
    "ds_foz_simple.head()"
   ]
  },
  {
   "cell_type": "markdown",
   "id": "horizontal-poland",
   "metadata": {},
   "source": [
    "## Visualizando Dados"
   ]
  },
  {
   "cell_type": "code",
   "execution_count": 98,
   "id": "molecular-advantage",
   "metadata": {},
   "outputs": [
    {
     "data": {
      "text/plain": [
       "<AxesSubplot:title={'center':'Casos Por Semana'}, xlabel='SE'>"
      ]
     },
     "execution_count": 98,
     "metadata": {},
     "output_type": "execute_result"
    },
    {
     "data": {
      "image/png": "[encoded data removed]",
      "text/plain": [
       "<Figure size 432x288 with 1 Axes>"
      ]
     },
     "metadata": {
      "needs_background": "light"
     },
     "output_type": "display_data"
    }
   ],
   "source": [
    "#tentar Normalizar para visualizar melhor.\n",
    "\n",
    "class_distr = { 'casos': ds_foz_simple.casos,'SE':ds_foz_simple.SE }\n",
    "df_casos_data = pd.DataFrame(data=class_distr)\n",
    "\n",
    "df_casos_data.plot(kind ='line' ,x = 'SE', y = 'casos' ,title='Casos Por Semana')"
   ]
  },
  {
   "cell_type": "markdown",
   "id": "educated-parallel",
   "metadata": {},
   "source": []
  }
 ],
 "metadata": {
  "kernelspec": {
   "display_name": "Python 3",
   "language": "python",
   "name": "python3"
  },
  "language_info": {
   "codemirror_mode": {
    "name": "ipython",
    "version": 3
   },
   "file_extension": ".py",
   "mimetype": "text/x-python",
   "name": "python",
   "nbconvert_exporter": "python",
   "pygments_lexer": "ipython3",
   "version": "3.9.2"
  }
 },
 "nbformat": 4,
 "nbformat_minor": 5
}
