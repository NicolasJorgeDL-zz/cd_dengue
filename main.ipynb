{
 "cells": [
  {
   "cell_type": "code",
   "execution_count": 31,
   "id": "stupid-andrews",
   "metadata": {},
   "outputs": [],
   "source": [
    "from sklearn import preprocessing\n",
    "import pandas as pd\n",
    "import matplotlib.pyplot as plt\n",
    "import numpy as np"
   ]
  },
  {
   "cell_type": "markdown",
   "id": "aboriginal-nowhere",
   "metadata": {},
   "source": [
    "# Adicionando Bases de Dados\n",
    "### Encontramos datasets de todas as cidades do Paraná, após olhar os dados percebemos que tinha uma discrepância muito grande de uma cidade do interior para uma mais desenvolvida, como por exemplo Abadia PR a qual possuía em 5 anos 6 casos de dengue, com isso escolhemos 7 cidades bem desenvolvidas do Paraná ###"
   ]
  },
  {
   "cell_type": "code",
   "execution_count": 17,
   "id": "engaging-apache",
   "metadata": {},
   "outputs": [],
   "source": [
    "ds_cas = pd.read_csv('./datasets/casos/cascavel.csv')\n",
    "ds_cwb = pd.read_csv('./datasets/casos/curitiba.csv')\n",
    "ds_foz = pd.read_csv('./datasets/casos/fozdoiguacu.csv')\n",
    "ds_fbe = pd.read_csv('./datasets/casos/franciscobeltrao.csv')\n",
    "ds_ldb = pd.read_csv('./datasets/casos/londrina.csv')\n",
    "ds_mgf = pd.read_csv('./datasets/casos/maringa.csv')\n",
    "ds_pto = pd.read_csv('./datasets/casos/patobranco.csv')\n"
   ]
  },
  {
   "cell_type": "markdown",
   "id": "continuous-ontario",
   "metadata": {},
   "source": [
    "# Limpando Bases de Dados\n",
    "### A base de dados possuia varios atributos que são utilizados por um modelo próprio deles, algums atributos que possuiam valores faltantes e outros valores unicos excluindo esses atributos ficamos com o numero de casos população e a media das temperaturas minimas na semana."
   ]
  },
  {
   "cell_type": "code",
   "execution_count": 18,
   "id": "promising-telescope",
   "metadata": {},
   "outputs": [],
   "source": [
    "col_remove = ['Localidade_id','umidmax','id','casos_est','casos_est_min','casos_est_max','p_rt1','tweet','Rt','nivel_inc','versao_modelo','nivel','transmissao','notif_accum_year','receptivo','p_inc100k',]\n",
    "dsc_cas = ds_cas.drop(col_remove,axis=1)\n",
    "dsc_cwb = ds_cwb.drop(col_remove,axis=1)\n",
    "dsc_foz = ds_foz.drop(col_remove,axis=1)\n",
    "dsc_fbe = ds_fbe.drop(col_remove,axis=1)\n",
    "dsc_ldb = ds_ldb.drop(col_remove,axis=1)\n",
    "dsc_mgf = ds_mgf.drop(col_remove,axis=1)\n",
    "dsc_pto = ds_pto.drop(col_remove,axis=1)"
   ]
  },
  {
   "cell_type": "code",
   "execution_count": 21,
   "id": "younger-apache",
   "metadata": {},
   "outputs": [
    {
     "data": {
      "text/html": [
       "<div>\n",
       "<style scoped>\n",
       "    .dataframe tbody tr th:only-of-type {\n",
       "        vertical-align: middle;\n",
       "    }\n",
       "\n",
       "    .dataframe tbody tr th {\n",
       "        vertical-align: top;\n",
       "    }\n",
       "\n",
       "    .dataframe thead th {\n",
       "        text-align: right;\n",
       "    }\n",
       "</style>\n",
       "<table border=\"1\" class=\"dataframe\">\n",
       "  <thead>\n",
       "    <tr style=\"text-align: right;\">\n",
       "      <th></th>\n",
       "      <th>data_iniSE</th>\n",
       "      <th>SE</th>\n",
       "      <th>casos</th>\n",
       "      <th>pop</th>\n",
       "      <th>tempmin</th>\n",
       "    </tr>\n",
       "  </thead>\n",
       "  <tbody>\n",
       "    <tr>\n",
       "      <th>0</th>\n",
       "      <td>2015-12-27</td>\n",
       "      <td>201552</td>\n",
       "      <td>15</td>\n",
       "      <td>87491.0</td>\n",
       "      <td>23.0</td>\n",
       "    </tr>\n",
       "    <tr>\n",
       "      <th>1</th>\n",
       "      <td>2016-01-03</td>\n",
       "      <td>201601</td>\n",
       "      <td>52</td>\n",
       "      <td>87491.0</td>\n",
       "      <td>24.0</td>\n",
       "    </tr>\n",
       "    <tr>\n",
       "      <th>2</th>\n",
       "      <td>2016-01-10</td>\n",
       "      <td>201602</td>\n",
       "      <td>63</td>\n",
       "      <td>87491.0</td>\n",
       "      <td>23.0</td>\n",
       "    </tr>\n",
       "    <tr>\n",
       "      <th>3</th>\n",
       "      <td>2016-01-17</td>\n",
       "      <td>201603</td>\n",
       "      <td>57</td>\n",
       "      <td>87491.0</td>\n",
       "      <td>21.0</td>\n",
       "    </tr>\n",
       "    <tr>\n",
       "      <th>4</th>\n",
       "      <td>2016-01-24</td>\n",
       "      <td>201604</td>\n",
       "      <td>48</td>\n",
       "      <td>87491.0</td>\n",
       "      <td>22.0</td>\n",
       "    </tr>\n",
       "  </tbody>\n",
       "</table>\n",
       "</div>"
      ],
      "text/plain": [
       "   data_iniSE      SE  casos      pop  tempmin\n",
       "0  2015-12-27  201552     15  87491.0     23.0\n",
       "1  2016-01-03  201601     52  87491.0     24.0\n",
       "2  2016-01-10  201602     63  87491.0     23.0\n",
       "3  2016-01-17  201603     57  87491.0     21.0\n",
       "4  2016-01-24  201604     48  87491.0     22.0"
      ]
     },
     "execution_count": 21,
     "metadata": {},
     "output_type": "execute_result"
    }
   ],
   "source": [
    "dsc_fbe.head()"
   ]
  },
  {
   "cell_type": "markdown",
   "id": "quiet-depression",
   "metadata": {},
   "source": [
    "## Visualizando Dados"
   ]
  },
  {
   "cell_type": "code",
   "execution_count": 42,
   "id": "supreme-cruise",
   "metadata": {},
   "outputs": [
    {
     "data": {
      "text/plain": [
       "<AxesSubplot:title={'center':'Casos Por Semana'}, xlabel='SE'>"
      ]
     },
     "execution_count": 42,
     "metadata": {},
     "output_type": "execute_result"
    },
    {
     "data": {
      "image/png": "[encoded data removed]",
      "text/plain": [
       "<Figure size 432x288 with 1 Axes>"
      ]
     },
     "metadata": {
      "needs_background": "light"
     },
     "output_type": "display_data"
    }
   ],
   "source": [
    "#tentar Normalizar para visualizar melhor.\n",
    "\n",
    "class_distr = { 'casos': dsc_cwb.casos,'SE':dsc_cwb.SE  , 'TempMin':dsc_cwb.tempmin}\n",
    "\n",
    "df_casos_data = pd.DataFrame(data=class_distr)\n",
    "\n",
    "df_casos_data.plot(kind ='line' ,x = 'SE', y = 'casos' ,title='Casos Por Semana')"
   ]
  },
  {
   "cell_type": "markdown",
   "id": "excited-boutique",
   "metadata": {},
   "source": []
  }
 ],
 "metadata": {
  "kernelspec": {
   "display_name": "Python 3",
   "language": "python",
   "name": "python3"
  },
  "language_info": {
   "codemirror_mode": {
    "name": "ipython",
    "version": 3
   },
   "file_extension": ".py",
   "mimetype": "text/x-python",
   "name": "python",
   "nbconvert_exporter": "python",
   "pygments_lexer": "ipython3",
   "version": "3.9.2"
  }
 },
 "nbformat": 4,
 "nbformat_minor": 5
}
